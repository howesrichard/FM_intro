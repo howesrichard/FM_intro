{
 "cells": [
  {
   "attachments": {},
   "cell_type": "markdown",
   "metadata": {},
   "source": [
    "<p style=\"text-align: center; font-size: 2em; text-decoration: underline;\">\n",
    "  <strong>FINM3422:  Prereading Materials - Part One</strong>\n",
    "</p>\n"
   ]
  },
  {
   "cell_type": "markdown",
   "metadata": {},
   "source": [
    "# Introduction to FINM3422"
   ]
  },
  {
   "cell_type": "markdown",
   "metadata": {},
   "source": [
    "The purpose of this course is to make you better at financial modelling.   \n",
    "\n",
    "We accomplish this through:\n",
    "- giving you skills in using Python as a financial modelling tool; and\n",
    "- exploring some specific applications \n",
    "\n",
    "There are certain areas of finance such as portfolio theory, yield curves, and option pricing that we deep-dive into.  This will deepen your understanding of these areas.  But the more important outcome is that you will develop the ability to harness a powerful toolset with broad application.  "
   ]
  },
  {
   "cell_type": "markdown",
   "metadata": {},
   "source": [
    "## About the tools we are teaching you to use\n",
    "If you have not done any programming before, you will face quite a steep learning curve in this subject.   You will learn how to use the programming language, Python.   You will learn the basics of using GitHub - a development and collaboration tool.  You will learn how to use VSCode - an integrated development environment that helps you be successful in using Python (and other tools and languages) in financial modelling. \n",
    "\n"
   ]
  },
  {
   "cell_type": "markdown",
   "metadata": {},
   "source": [
    "## Why Python?\n",
    "You might be thinking, \"Python is for software engineers. I know excel and that's all I will need to do well in Finance.\"   This may be true just as there were many people in my generation who did well in finance without being any good at Excel.  But for many roles, strong excel skills were a way to differentiate oneself in my day.  Strong Python skills with all the capability that brings can be source of competitive advantage for you in banking, strategy, trading, investing, and other finance areas.\n",
    "\n",
    "There are several ways in which Python is superior to Excel for finance applications:\n"
   ]
  },
  {
   "cell_type": "markdown",
   "metadata": {},
   "source": [
    "### 1. Automation and Efficiency\n",
    "Python allows for automation of repetitive tasks, which can save a significant amount of time compared to manual operations in Excel."
   ]
  },
  {
   "cell_type": "code",
   "execution_count": null,
   "metadata": {},
   "outputs": [],
   "source": [
    "# Example: Automating data fetching from a web API\n",
    "import requests\n",
    "\n",
    "response = requests.get('https://api.exchangerate-api.com/v4/latest/USD')\n",
    "data = response.json()\n",
    "print(data)\n",
    "\n",
    "# Test comment, signed JA"
   ]
  },
  {
   "cell_type": "markdown",
   "metadata": {},
   "source": [
    "### 2. Data Handling and Analysis\n",
    "Python, with libraries like Pandas, provides powerful tools for data manipulation and analysis that are more flexible and efficient than Excel."
   ]
  },
  {
   "cell_type": "code",
   "execution_count": null,
   "metadata": {},
   "outputs": [],
   "source": [
    "# Example: Data manipulation with Pandas\n",
    "import pandas as pd\n",
    "\n",
    "# Creating a DataFrame\n",
    "data = {'Date': ['2021-01-01', '2021-01-02', '2021-01-03'],\n",
    "        'Price': [100, 101, 102]}\n",
    "df = pd.DataFrame(data)\n",
    "print(df)\n",
    "\n",
    "# Calculating the percentage change\n",
    "df['Pct Change'] = df['Price'].pct_change()\n",
    "print(df)"
   ]
  },
  {
   "cell_type": "markdown",
   "metadata": {},
   "source": [
    "### 3. Powerful Numerical Computation\n",
    "NumPy is a Python library that provides support for large, multi-dimensional arrays and matrices, along with a collection of mathematical functions to operate on these arrays. This is more efficient than Excel for numerical computations."
   ]
  },
  {
   "cell_type": "code",
   "execution_count": null,
   "metadata": {},
   "outputs": [],
   "source": [
    "# Example: Numerical computation with NumPy\n",
    "import numpy as np\n",
    "\n",
    "# Creating an array\n",
    "prices = np.array([100, 101, 102, 103, 104])\n",
    "\n",
    "# Calculating the log returns\n",
    "log_returns = np.log(prices[1:] / prices[:-1])\n",
    "print(log_returns)"
   ]
  },
  {
   "cell_type": "markdown",
   "metadata": {},
   "source": [
    "### 4. Powerful and Flexible Data Visualization\n",
    "Python libraries, Matplotlib and Seaborn, are powerful in creating a wide range of static, animated, and interactive visualizations. They offer more customization and flexibility compared to Excel charts."
   ]
  },
  {
   "cell_type": "code",
   "execution_count": null,
   "metadata": {},
   "outputs": [],
   "source": [
    "# Example: Data visualization with Matplotlib and Seaborn\n",
    "import matplotlib.pyplot as plt\n",
    "import seaborn as sns\n",
    "\n",
    "# Sample data\n",
    "data = {'Date': ['2021-01-01', '2021-01-02', '2021-01-03'],\n",
    "        'Price': [100, 101, 102]}\n",
    "df = pd.DataFrame(data)\n",
    "\n",
    "# Line plot\n",
    "plt.figure(figsize=(10, 5))\n",
    "sns.lineplot(x='Date', y='Price', data=df)\n",
    "plt.title('Price Over Time')\n",
    "plt.show()"
   ]
  },
  {
   "cell_type": "markdown",
   "metadata": {},
   "source": [
    "### 5. Scalability\n",
    "Python can handle larger datasets more efficiently than Excel, which can become slow and unwieldy with large amounts of data."
   ]
  },
  {
   "cell_type": "code",
   "execution_count": null,
   "metadata": {},
   "outputs": [],
   "source": [
    "# Example: Handling large datasets with Pandas\n",
    "import numpy as np\n",
    "\n",
    "# Creating a large DataFrame\n",
    "large_data = {'A': np.random.rand(1000000), 'B': np.random.rand(1000000)}\n",
    "large_df = pd.DataFrame(large_data)\n",
    "print(large_df.head())"
   ]
  },
  {
   "cell_type": "markdown",
   "metadata": {},
   "source": [
    "### 6. Advanced Analytics and Machine Learning\n",
    "Python has extensive libraries for advanced analytics and machine learning, such as Scikit-Learn, TensorFlow, and PyTorch, which are not available in Excel."
   ]
  },
  {
   "cell_type": "code",
   "execution_count": null,
   "metadata": {},
   "outputs": [],
   "source": [
    "# Example: Simple linear regression with Scikit-Learn\n",
    "from sklearn.linear_model import LinearRegression\n",
    "\n",
    "# Sample data\n",
    "X = np.array([[1], [2], [3], [4], [5]])\n",
    "y = np.array([1, 2, 1.3, 3.75, 2.25])\n",
    "\n",
    "# Creating and training the model\n",
    "model = LinearRegression()\n",
    "model.fit(X, y)\n",
    "\n",
    "# Making predictions\n",
    "predictions = model.predict(X)\n",
    "print(predictions)"
   ]
  },
  {
   "cell_type": "markdown",
   "metadata": {},
   "source": [
    "### 7. Reproducibility and Version Control\n",
    "Python scripts can be version-controlled using Git, ensuring reproducibility and collaboration, which is more challenging with Excel files."
   ]
  },
  {
   "cell_type": "markdown",
   "metadata": {},
   "source": [
    "### 8. User Interfaces\n",
    "Python can create interactive user interfaces using libraries such as `Streamlit`, `Dash`, and `Tkinter`. These libraries allow you to build web applications and dashboards that make data analysis more accessible and interactive."
   ]
  },
  {
   "cell_type": "markdown",
   "metadata": {},
   "source": [
    "## Why GitHub?\n",
    "\n"
   ]
  },
  {
   "cell_type": "markdown",
   "metadata": {},
   "source": [
    "### Introduction\n",
    "\n",
    "In today's digital age, proficiency in technology is crucial for success in any field, including finance. While GitHub is often associated with software development, it offers numerous benefits that can enhance the skill set of finance students. This document outlines the reasons why finance students should consider learning GitHub, even if they are not planning on becoming professional software developers.\n",
    "\n",
    "### Version Control\n",
    "\n",
    "GitHub provides a powerful version control system that allows you to track changes to your documents and collaborate with others seamlessly. This is particularly useful for:\n",
    "\n",
    "- **Collaborative Projects**: Work on group assignments and ensure everyone is on the same page.\n",
    "- **Research Papers**: Keep track of revisions and easily revert to previous versions if needed.\n",
    "\n",
    "### Collaboration\n",
    "\n",
    "Collaboration is a cornerstone of GitHub's functionality, making it an ideal tool for finance students working on group projects or research. GitHub's collaboration features include:\n",
    "\n",
    "- **Branching and Merging**: Work on different parts of a project simultaneously without interfering with each other's work. Branching allows you to create separate lines of development, and merging integrates changes back into the main project.\n",
    "- **Pull Requests**: Propose changes to a project and discuss them with your team before integrating them. This ensures that all changes are reviewed and approved, maintaining the quality of the work.\n",
    "- **Issues and Project Boards**: Track tasks, bugs, and enhancements using GitHub Issues. Organize and prioritize your work with project boards, making it easier to manage complex projects.\n",
    "- **Code Reviews**: Peer reviews are facilitated through pull requests, allowing team members to provide feedback and improve the quality of the work collaboratively.\n",
    "\n",
    "### Networking\n",
    "\n",
    "GitHub is a platform that fosters networking and professional growth. By learning GitHub, you can:\n",
    "\n",
    "- **Connect with Professionals**: Join a global community of professionals and gain exposure to industry best practices.\n",
    "- **Showcase Your Work**: Create a portfolio of your projects and analyses, demonstrating your skills to potential employers.\n",
    "- **Contribute to Open Source**: Participate in open-source projects, contributing to the community and gaining valuable experience.\n",
    "\n",
    "### Data Analysis and Automation\n",
    "\n",
    "Finance increasingly relies on data analysis and automation. GitHub can help you:\n",
    "\n",
    "- **Manage Code and Scripts**: Store and manage your data analysis scripts, ensuring they are organized and accessible.\n",
    "- **Automate Tasks**: Use GitHub Actions to automate repetitive tasks, saving time and reducing errors.\n",
    "\n",
    "### Integration with VSCode\n",
    "\n",
    "Visual Studio Code (VSCode) is a powerful, open-source code editor that integrates seamlessly with GitHub. The benefits of this integration include:\n",
    "\n",
    "- **Ease of Use**: VSCode provides a user-friendly interface for managing your GitHub repositories, making it easier to commit changes, create branches, and manage pull requests.\n",
    "- **Built-in Git Support**: VSCode has built-in Git support, allowing you to perform version control operations directly from the editor.\n",
    "- **Extensions and Customization**: Enhance your workflow with a wide range of extensions available for VSCode, tailored to your specific needs.\n",
    "\n",
    "### GitHub Codespaces\n",
    "\n",
    "GitHub Codespaces is a cloud-based development environment that is fully integrated into the GitHub ecosystem. The benefits of using Codespaces include:\n",
    "\n",
    "- **Instant Development Environments**: Spin up a development environment in seconds, pre-configured with all the tools you need.\n",
    "- **Consistency**: Ensure that all team members are working in the same environment, reducing the \"it works on my machine\" problem.\n",
    "- **Accessibility**: Access your development environment from anywhere, on any device, without the need for complex setup.\n",
    "\n",
    "GitHub Codespaces is a paid feature, but you can join GitHub Education with your student credentials to get this feature for free.\n",
    "\n",
    "### GitHub Copilot\n",
    "\n",
    "GitHub Copilot is an AI-powered code completion tool that empowers less technical users to do much more. The benefits of GitHub Copilot include:\n",
    "\n",
    "- **Code Suggestions**: Receive intelligent code suggestions as you type, helping you write code faster and with fewer errors.\n",
    "- **Learning Aid**: Use Copilot as a learning tool to understand how to implement various coding tasks, even if you are not an expert.\n",
    "- **Increased Productivity**: Focus on higher-level problem-solving while Copilot assists with the implementation details.\n",
    "\n",
    "GitHub Copilot is a paid feature, but you can join GitHub Education with your student credentials to get this feature for free.\n",
    "\n",
    "### Professional Development\n",
    "\n",
    "Learning GitHub can enhance your professional profile by:\n",
    "\n",
    "- **Showcasing Your Work**: Create a portfolio of your projects and analyses, demonstrating your skills to potential employers.\n",
    "- **Continuous Learning**: Stay updated with the latest tools and technologies used in the finance industry.\n",
    "\n",
    "### Conclusion\n",
    "\n",
    "Even if you are not planning to become a professional software developer, learning GitHub can provide you with valuable skills that are highly applicable in the finance industry. Embrace the opportunity to enhance your collaboration, data management, and professional development by integrating GitHub into your skill set. The integration with VSCode, the availability of Codespaces, and the power of GitHub Copilot further amplify the benefits, making GitHub an essential tool for finance students."
   ]
  },
  {
   "cell_type": "markdown",
   "metadata": {},
   "source": [
    "## Why VSCode\n",
    "\n"
   ]
  },
  {
   "cell_type": "markdown",
   "metadata": {},
   "source": [
    "Visual Studio Code (VSCode) is a powerful, open-source code editor developed by Microsoft. It has gained immense popularity among developers across various fields, including finance. This document outlines the reasons why VSCode is the best Integrated Development Environment (IDE) for financial modelling development.\n",
    "\n",
    "### User-Friendly Interface\n",
    "\n",
    "- **Intuitive Design**: VSCode offers a clean and intuitive user interface that is easy to navigate, even for beginners. The layout is customizable, allowing you to arrange panels and tabs according to your workflow.\n",
    "- **Integrated Terminal**: The built-in terminal allows you to run scripts and commands directly within the IDE, streamlining your development process.\n",
    "\n",
    "### Extensive Language Support\n",
    "\n",
    "- **Multi-Language Support**: VSCode supports a wide range of programming languages, including Python, R, and SQL, which are commonly used in financial modelling. This makes it a versatile choice for finance professionals.\n",
    "- **Syntax Highlighting and Autocompletion**: The editor provides syntax highlighting and autocompletion for various languages, enhancing code readability and reducing errors.\n",
    "\n",
    "### Powerful Extensions\n",
    "\n",
    "- **Rich Extension Ecosystem**: VSCode has a vast library of extensions available through the Visual Studio Code Marketplace. These extensions can enhance your productivity and add new functionalities tailored to financial modelling.\n",
    "  - **Python Extension**: Provides features like IntelliSense, linting, debugging, and Jupyter Notebook support.\n",
    "  - **Excel Viewer**: Allows you to view and edit Excel files directly within VSCode.\n",
    "  - **SQL Tools**: Integrates SQL databases, enabling you to run queries and manage databases seamlessly.\n",
    "\n",
    "### Integration with GitHub\n",
    "\n",
    "- **Version Control**: VSCode integrates seamlessly with GitHub, allowing you to manage your repositories, commit changes, and handle pull requests directly from the IDE. This is crucial for collaborative financial modelling projects.\n",
    "- **GitHub Codespaces**: With GitHub Codespaces, you can create cloud-based development environments that are pre-configured with all the tools you need. This ensures consistency and accessibility across different devices.\n",
    "\n",
    "### Debugging and Testing\n",
    "\n",
    "- **Built-in Debugger**: VSCode comes with a powerful built-in debugger that supports multiple languages. You can set breakpoints, inspect variables, and step through your code to identify and fix issues efficiently.\n",
    "- **Testing Frameworks**: The IDE supports various testing frameworks, allowing you to write and run tests to ensure the accuracy and reliability of your financial models.\n",
    "\n",
    "### Collaboration Features\n",
    "\n",
    "- **Live Share**: The Live Share extension enables real-time collaboration with your team. You can share your workspace, edit code together, and debug issues collaboratively, making it easier to work on complex financial models.\n",
    "- **Comments and Annotations**: You can add comments and annotations to your code, facilitating better communication and understanding among team members.\n",
    "\n",
    "### Customizability\n",
    "\n",
    "- **Themes and Layouts**: VSCode offers a wide range of themes and layout options, allowing you to customize the appearance and functionality of the IDE to suit your preferences.\n",
    "- **Keybindings**: You can configure custom keybindings to streamline your workflow and improve efficiency.\n",
    "\n",
    "### Integration with Data Science Tools\n",
    "\n",
    "- **Jupyter Notebooks**: VSCode supports Jupyter Notebooks, enabling you to perform data analysis and visualization within the IDE. This is particularly useful for financial modelling and exploratory data analysis.\n",
    "- **Data Visualization Libraries**: You can integrate popular data visualization libraries like Matplotlib, Seaborn, and Plotly to create interactive charts and graphs.\n",
    "\n",
    "### GitHub Copilot\n",
    "\n",
    "- **AI-Powered Code Completion**: GitHub Copilot, an AI-powered code completion tool, is integrated into VSCode. It provides intelligent code suggestions, helping you write code faster and with fewer errors. This is especially beneficial for finance professionals who may not have extensive programming experience.\n",
    "\n",
    "### Conclusion\n",
    "\n",
    "Visual Studio Code (VSCode) stands out as the best IDE for financial modelling development due to its user-friendly interface, extensive language support, powerful extensions, seamless integration with GitHub, robust debugging and testing capabilities, collaboration features, customizability, and integration with data science tools. The addition of GitHub Copilot further enhances its appeal by empowering users with AI-driven code suggestions. For finance professionals looking to develop accurate and efficient financial models, VSCode is the ideal choice."
   ]
  },
  {
   "attachments": {},
   "cell_type": "markdown",
   "metadata": {},
   "source": [
    "# Installation and Setup "
   ]
  },
  {
   "cell_type": "markdown",
   "metadata": {},
   "source": [
    "## Installing Python and VSCode"
   ]
  },
  {
   "cell_type": "markdown",
   "metadata": {},
   "source": [
    "Python is the language.  VSCode is the Integrated Development Environment (IDE)\n",
    "\n",
    "### Windows\n",
    "\n",
    "Start by downloading and installing Python from the Python website.\n",
    "\n",
    "https://www.python.org/downloads/\n",
    "\n",
    "1. 'Download the latest version for Windows'\n",
    "2. Run the executable download file.\n",
    "3. Make sure to select Add python.exe to PATH option upon opening the installer\n",
    "4. Click Install Now\n",
    "\n",
    "Next we want to get Visual Studio Code (VSCode). This is a commonly used source code editor in industry and the one we will be using in this course.\n",
    "\n",
    "https://go.microsoft.com/fwlink/?LinkID=534107\n",
    "\n",
    "1. Download and run the installer with default settings\n",
    "2. After downloading, run VSCode.\n",
    "\n",
    "\n"
   ]
  },
  {
   "cell_type": "markdown",
   "metadata": {},
   "source": [
    "### Mac\n",
    "\n",
    "Macs come with Python pre-installed, however it is likely an old version. To check the version, enter the following in your terminal.\n",
    "\n",
    "`$ python --version`\n",
    "\n",
    "Check the message. If the version is 2.xxx or below 3.10, you should install a new version using the below steps.\n",
    "\n",
    "https://www.python.org/downloads/ \n",
    "\n",
    "1. Download the latest version for Mac. This will be the MacOS 64 Bit universal installer.\n",
    "2. Run the downloaded file.\n",
    "3. Follow all prompts - it is recommended to keep the default install location.\n",
    "\n",
    "To install VSCode, please follow the below link.\n",
    "\n",
    "https://code.visualstudio.com/?wt.mc_id=vscom_downloads#alt-downloads\n",
    "\n",
    "1. Download the appropriate installer for your Mac (Intel or ARM). If you aren't sure, choose the universal installer.\n",
    "2. Extract the downloaded ZIP folder and run the installer.\n",
    "3. Follow any prompts and open VSCode."
   ]
  },
  {
   "cell_type": "markdown",
   "metadata": {},
   "source": [
    "## Installing pip"
   ]
  },
  {
   "cell_type": "markdown",
   "metadata": {},
   "source": [
    "`pip` is the package installer for Python, allowing you to install and manage additional libraries and dependencies that are not included in the standard Python library. \n",
    "\n",
    "It simplifies the process of downloading and installing packages from the Python Package Index (PyPI) and other repositories. With `pip`, you can easily add functionality to your Python projects by installing packages with a single command, such as `pip install package-name`. It also supports managing package versions, enabling you to specify and install specific versions of packages to ensure compatibility and stability in your projects. Additionally, `pip` can generate and use requirements files, which list all the dependencies for a project, making it easier to share and replicate environments across different systems.\n",
    "\n",
    "We need to ensure we have `pip` installed. The process you will follow depends on if you utilise Windows or Mac.\n",
    "\n",
    "### Windows\n",
    "\n",
    "Installed by default.\n",
    "\n",
    "\n",
    "### Mac\n",
    "Macs now come with Python pre-installed, however this version may be outdated. Earlier, you would've installed the latest version of Python, however your Pip is likely outdated. To see if you have Pip installed, run the following in your Mac terminal:\n",
    "\n",
    "`pip --version`\n",
    "\n",
    "If this gives you a version number and directory, you have Pip installed. To ensure it's up to date, run the following in your terminal:\n",
    "\n",
    "`python3 -m pip install –-upgrade pip`\n",
    "\n",
    "If you did not have Pip installed (no version could be found), follow these steps:\n",
    "\n",
    "Open the Mac terminal and enter: \n",
    "\n",
    "`curl https://bootstrap.pypa.io/get-pip.py -o get-pip.py`\n",
    "\n",
    "Once the above has run, enter:\n",
    "\n",
    "`python3 get-pip.py`"
   ]
  },
  {
   "cell_type": "markdown",
   "metadata": {},
   "source": [
    "## Installing Libraries"
   ]
  },
  {
   "cell_type": "markdown",
   "metadata": {},
   "source": [
    "To install a library in Python, you can either utilise the terminal directly, or access the terminal through a Jupyter notebook using `!`. Installing through a Jupyter notebook is as follows:\n",
    "`!python -m pip install package`\n",
    "\n",
    "To install from the terminal, you would enter:\n",
    "`$ python -m pip install package`\n",
    "\n",
    "We have listed the libraries we will be using in this course below. Please run the following cell to install them on to your machine."
   ]
  },
  {
   "cell_type": "code",
   "execution_count": 2,
   "metadata": {},
   "outputs": [],
   "source": [
    "!python -m pip install numpy\n",
    "!python -m pip install pandas\n",
    "!python -m pip install matplotlib\n",
    "!python -m pip install yfinance\n",
    "!python -m pip install scipystats\n",
    "!python -m pip install seaborn\n",
    "!python -m pip install requests"
   ]
  },
  {
   "attachments": {},
   "cell_type": "markdown",
   "metadata": {},
   "source": [
    "## Setting up and using Jupyter notebooks in Python"
   ]
  },
  {
   "cell_type": "markdown",
   "metadata": {},
   "source": [
    "Typically, Python files are stored in a `file.py` format. This is great for writing full applications, but not so great for learning Python where you will be working with small snippets of code.\n",
    "\n",
    "In this course, we will be using Jupyter Notebooks, which are saved as `file.ipynb`.\n",
    "\n",
    "Jupyter notebooks are structured with 'cells' that can be run one-by-one:\n",
    "1. __Coding cells__: where the user can type and execute Python code.\n",
    "2. __Markdown cells__: where the user can type text in markdown format.\n",
    "\n",
    "To allow VSCode to understand how to read `.ipynb` files, we want to install the Jupyter Notebook extension. The easiest way to do this is to get VSCode to try and open an `.ipynb` file, which will automatically prompt the user to install the Jupyter Notebook library.\n",
    "\n",
    "1. Make sure the Explorer menu is open in VSCode (either press CTRL/Command + Shift + E, or select the icon with the two pages at the top left of the screen)\n",
    "\n",
    "2. Set your workspace folder by selecting 'Open Folder' and navigating to an empty folder on your hard drive.\n",
    "\n",
    "3. Rick click the explorer pane on the left and select 'New File'\n",
    "\n",
    "4. Name the file `notebook.ipynb`\n",
    "\n",
    "5. Select `notebook.ipynb` and VSCode should prompt you to install the Jupyter Notebook extension. Proceed with installation.\n",
    "\n",
    "6. These pre-reading materials are also available in `.ipynb` format. Now that we have Jupyter Notebooks working, we recommend following the remainder of the pre-reading materials in the `.ipynb` format. This will let you run the code cells yourself and install any necessary libraries. To do so, copy the pre-reading.ipynb into the current working directory folder and it will appear in the explorer pane. Click to open."
   ]
  },
  {
   "attachments": {},
   "cell_type": "markdown",
   "metadata": {},
   "source": [
    "### Navigating a Jupyter Notebook\n",
    "\n",
    "Jupyter Notebooks are split into Code and Markdown Cells.\n",
    "\n",
    "#### Creating Cells\n",
    "\n",
    "To create a cell click on the `+ Code` or `+ Markdown` button at the top of the Window\n",
    "\n",
    "#### Editing Cells\n",
    "\n",
    "To edit a __code__ cell, simply click into it as if its a text box and start typing away.\n",
    "\n",
    "To edit a __markdown__ cell, click on the text and press `Enter`\n",
    "\n",
    "#### Executing Cells\n",
    "\n",
    "To run a __code__ cell, either:\n",
    "- Press the Execute Cell (Triangle shaped) button to the left of the code cell; or\n",
    "- Press `CTRL or Command + Enter`\n",
    "\n",
    "Once we're finished editing a __markdown__ cell, either:\n",
    "- Press the tick button on the top right of the cell; or\n",
    "- Press `CTRL or Command + Enter`"
   ]
  },
  {
   "cell_type": "markdown",
   "metadata": {},
   "source": [
    "# Resources to learn Python, VSCode, Jupyter Notebooks, and GitHub"
   ]
  },
  {
   "cell_type": "markdown",
   "metadata": {},
   "source": [
    "We have created a separate Introduction to Python Jupyter notebook for you which covers many of the key Python knowledge areas that you will need for this course.  And a lot of your learning will be \"on the job\" - extending the basics when you do the assignment.  That said, we recommend a more comprensive approach to learning Python as well as VSCode, Jupyter notebooks and GitHub in order to develop a higher level of proficiency and do well.\n",
    "\n",
    "There are excellent resources all over the web for learning the tools.  Here are some suggestions that cover Python, Jupyter notebooks, and GitHub that have mostly been crafted for an audience that uses VSCode:\n",
    "\n",
    "**Visual Studio Code for Education**\n",
    "- [Introduction to Python course](https://vscodeedu.com/courses/intro-to-python). \n",
    "   - This course is good if you are new to programming.  It offers a comprehensive introduction to Python, featuring structured modules in a ready-to-code browser-based development environment.\n",
    "\n",
    "**Official VSCode Documentation**:\n",
    "   - [Python in Visual Studio Code](https://code.visualstudio.com/docs/python/python-tutorial).  \n",
    "      - This guide covers installation, configuration, and basic usage of Python in VSCode.\n",
    "   - [Working with Jupyter Notebooks in Visual Studio Code](https://code.visualstudio.com/docs/datascience/jupyter-notebooks).  \n",
    "      - This guide covers installation, configuration, and basic usage of Jupyter Notebooks in VSCode.\n",
    "   - [Using Git in VS Code](https://code.visualstudio.com/docs/editor/versioncontrol)\n",
    "      - This guide covers the basics of using Git and GitHub within VSCode, including cloning repositories, committing changes, and managing branches.\n",
    "\n",
    "**Microsoft Learn**:\n",
    "   - [Python in Visual Studio Code](https://docs.microsoft.com/en-us/learn/modules/python-install-vscode/).    \n",
    "      - A comprehensive learning path that includes tutorials and hands-on exercises.\n",
    "   - [Use Jupyter Notebooks in Visual Studio Code](https://docs.microsoft.com/en-us/learn/modules/use-jupyter-notebooks-in-vscode/).    \n",
    "      - A comprehensive learning path that includes tutorials and hands-on exercises.\n",
    "   - [Introduction to GitHub in Visual Studio Code](https://docs.microsoft.com/en-us/learn/modules/introduction-to-github/)\n",
    "      - A comprehensive learning path that includes tutorials and hands-on exercises for using GitHub with VSCode.\n",
    "\n",
    "**Real Python**:\n",
    "   - [Python Development in Visual Studio Code (Setup Guide)](https://realpython.com/python-development-visual-studio-code/).    \n",
    "      - An in-depth guide on setting up and using VSCode for Python development.\n",
    "   - [Jupyter Notebooks in VS Code](https://realpython.com/jupyter-notebook-vscode/)\n",
    "      - An in-depth guide on setting up and using Jupyter Notebooks in VSCode.\n",
    "\n",
    "**YouTube Channels**:\n",
    "   - **Tech With Tim**: [VSCode for Python Programming](https://www.youtube.com/watch?v=06I63_p-2A4)\n",
    "   - **Tech With Tim**: [Jupyter Notebooks in VS Code](https://www.youtube.com/watch?v=9Q6sLbz37gk)\n",
    "   - **Microsoft Visual Studio Code**: [Getting Started with Jupyter Notebooks in VS Code](https://www.youtube.com/watch?v=1-dUkyn_fZA)\n",
    "   - **Microsoft Visual Studio Code**: [Getting Started with Git in VS Code](https://www.youtube.com/watch?v=BCQHnlnPusY)\n",
    "   - **Traversy Media**: [Git & GitHub Crash Course For Beginners](https://www.youtube.com/watch?v=SWYqp7iY_Tc) \n",
    "      - while not specific to VSCode, it provides a solid foundation for understanding Git and GitHub.\n",
    "\n",
    "**VSCode Python Extension**:\n",
    "   - [Visual Studio Code Marketplace - Python Extension](https://marketplace.visualstudio.com/items?itemName=ms-python.python).  The extension page includes documentation, tutorials, and links to additional resources.\n",
    "\n",
    "**VSCode GitHub Extension**:   \n",
    "   - [Visual Studio Code Marketplace - GitHub Pull Requests and Issues](https://marketplace.visualstudio.com/items?itemName=GitHub.vscode-pull-request-github)\n",
    "      - The extension page includes documentation, tutorials, and links to additional resources for managing GitHub pull requests and issues directly within VSCode.\n",
    "\n",
    "**GitHub Learning Lab**:\n",
    "   - [Introduction to GitHub](https://lab.github.com/githubtraining/introduction-to-github)\n",
    "   - An interactive course that teaches you the basics of GitHub, which you can apply within VSCode.\n",
    "\n",
    "**GitHub Docs**:\n",
    "   - [GitHub Docs - GitHub and Visual Studio Code](https://docs.github.com/en/get-started/getting-started-with-git/visual-studio-code)\n",
    "      - Official GitHub documentation on using GitHub with VSCode, including setup and common workflows."
   ]
  },
  {
   "cell_type": "markdown",
   "metadata": {},
   "source": [
    "## Setting up a GitHub account"
   ]
  },
  {
   "cell_type": "markdown",
   "metadata": {},
   "source": [
    "Two of your assignments for FINM3422 will require you to use GitHub.  GitHub will be where you access the code base that will form a starting point for your assignment.  It will also be the platform on which you formally collaborate with your team members in completing your assignment together. If you don't already have one, you can [sign up for a free account](https://github.com/signup)."
   ]
  }
 ],
 "metadata": {
  "kernelspec": {
   "display_name": "Python 3",
   "language": "python",
   "name": "python3"
  },
  "language_info": {
   "codemirror_mode": {
    "name": "ipython",
    "version": 3
   },
   "file_extension": ".py",
   "mimetype": "text/x-python",
   "name": "python",
   "nbconvert_exporter": "python",
   "pygments_lexer": "ipython3",
   "version": "3.12.1"
  },
  "orig_nbformat": 4
 },
 "nbformat": 4,
 "nbformat_minor": 2
}
